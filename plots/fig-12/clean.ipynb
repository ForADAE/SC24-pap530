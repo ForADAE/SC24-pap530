{
 "cells": [
  {
   "cell_type": "code",
   "execution_count": 1,
   "metadata": {},
   "outputs": [
    {
     "name": "stderr",
     "output_type": "stream",
     "text": [
      "c:\\Users\\wangh\\anaconda3\\Lib\\site-packages\\paramiko\\transport.py:219: CryptographyDeprecationWarning: Blowfish has been deprecated and will be removed in a future release\n",
      "  \"class\": algorithms.Blowfish,\n"
     ]
    }
   ],
   "source": [
    "import paramiko\n",
    "import scp\n",
    "\n",
    "ssh = paramiko.SSHClient()\n",
    "ssh.set_missing_host_key_policy(paramiko.AutoAddPolicy())\n",
    "# ssh.connect('10.18.19.43', port=2002, username='root', password='root')\n",
    "ssh.connect('10.64.128.188', port=2002, username='root', password='root')\n",
    "\n",
    "scp_client = scp.SCPClient(ssh.get_transport())\n",
    "local_folder_path = './'\n",
    "\n",
    "scp_client.get('/root/SC24/pytorch/mytest/swap_paper/rcgnn_gat_swap_node1.log', local_folder_path, recursive=True)\n",
    "scp_client.get('/root/SC24/pytorch/mytest/swap_paper/rcgnn_gat_swap_node2.log', local_folder_path, recursive=True)\n",
    "scp_client.get('/root/SC24/pytorch/mytest/swap_paper/rcgnn_gcn_swap_node3.log', local_folder_path, recursive=True)\n",
    "scp_client.get('/root/SC24/pytorch/mytest/swap_paper/rcgnn_gcn_swap_node4.log', local_folder_path, recursive=True)\n"
   ]
  },
  {
   "cell_type": "code",
   "execution_count": 2,
   "metadata": {},
   "outputs": [],
   "source": [
    "import os\n",
    "\n",
    "txt_files = [f for f in os.listdir('.') if f.endswith('.log')]\n",
    "\n",
    "for txt_file in txt_files:\n",
    "    with open(txt_file, 'r') as f:\n",
    "        lines = f.readlines()\n",
    "\n",
    "    lines = [line for line in lines if 'hemeng_log' in line]\n",
    "\n",
    "    csv_file = txt_file.replace('.log', '.csv')\n",
    "    with open(csv_file, 'w') as f:\n",
    "        for line in lines:\n",
    "            f.write(line)"
   ]
  }
 ],
 "metadata": {
  "kernelspec": {
   "display_name": "base",
   "language": "python",
   "name": "python3"
  },
  "language_info": {
   "codemirror_mode": {
    "name": "ipython",
    "version": 3
   },
   "file_extension": ".py",
   "mimetype": "text/x-python",
   "name": "python",
   "nbconvert_exporter": "python",
   "pygments_lexer": "ipython3",
   "version": "3.11.7"
  }
 },
 "nbformat": 4,
 "nbformat_minor": 2
}
