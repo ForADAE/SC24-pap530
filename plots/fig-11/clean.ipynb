{
 "cells": [
  {
   "cell_type": "code",
   "execution_count": 4,
   "metadata": {},
   "outputs": [],
   "source": [
    "import paramiko\n",
    "import scp\n",
    "\n",
    "ssh = paramiko.SSHClient()\n",
    "ssh.set_missing_host_key_policy(paramiko.AutoAddPolicy())\n",
    "# ssh.connect('10.18.19.43', port=2002, username='root', password='root')\n",
    "ssh.connect('10.64.128.188', port=2002, username='root', password='root')\n",
    "\n",
    "scp_client = scp.SCPClient(ssh.get_transport())\n",
    "local_folder_path = './'\n",
    "\n",
    "scp_client.get('/root/SC24/pytorch/mytest/partition_test/bns_2_node1_partition.log', local_folder_path, recursive=True)\n",
    "scp_client.get('/root/SC24/pytorch/mytest/partition_test/bns_2_node2_partition.log', local_folder_path, recursive=True)\n",
    "scp_client.get('/root/SC24/pytorch/mytest/partition_test/bns_4_node1_partition.log', local_folder_path, recursive=True)\n",
    "scp_client.get('/root/SC24/pytorch/mytest/partition_test/bns_4_node2_partition.log', local_folder_path, recursive=True)\n",
    "scp_client.get('/root/SC24/pytorch/mytest/partition_test/bns_4_node3_partition.log', local_folder_path, recursive=True)\n",
    "scp_client.get('/root/SC24/pytorch/mytest/partition_test/bns_4_node4_partition.log', local_folder_path, recursive=True)\n",
    "\n",
    "scp_client.get('/root/SC24/pytorch/mytest/partition_test/rcgnn_2_node3_partition.log', local_folder_path, recursive=True)\n",
    "scp_client.get('/root/SC24/pytorch/mytest/partition_test/rcgnn_2_node4_partition.log', local_folder_path, recursive=True)\n",
    "scp_client.get('/root/SC24/pytorch/mytest/partition_test/rcgnn_4_node1_partition.log', local_folder_path, recursive=True)\n",
    "scp_client.get('/root/SC24/pytorch/mytest/partition_test/rcgnn_4_node2_partition.log', local_folder_path, recursive=True)\n",
    "scp_client.get('/root/SC24/pytorch/mytest/partition_test/rcgnn_4_node3_partition.log', local_folder_path, recursive=True)\n",
    "scp_client.get('/root/SC24/pytorch/mytest/partition_test/rcgnn_4_node4_partition.log', local_folder_path, recursive=True)\n",
    "\n",
    "\n",
    "scp_client.close()\n",
    "ssh.close()\n"
   ]
  },
  {
   "cell_type": "code",
   "execution_count": null,
   "metadata": {},
   "outputs": [],
   "source": [
    "import os\n",
    "\n",
    "# 获取当前目录下的所有txt文件\n",
    "txt_files = [f for f in os.listdir('.') if f.endswith('.log')]\n",
    "\n",
    "for txt_file in txt_files:\n",
    "    with open(txt_file, 'r') as f:\n",
    "        lines = f.readlines()\n",
    "\n",
    "    # 仅保留包含\"for_commute\"的行\n",
    "    lines = [line for line in lines if 'for_commute' in line]\n",
    "\n",
    "    # 创建同名的csv文件\n",
    "    csv_file = txt_file.replace('.log', '.csv')\n",
    "    with open(csv_file, 'w') as f:\n",
    "        for line in lines:\n",
    "            # 直接写入行，不添加额外的逗号\n",
    "            f.write(line)"
   ]
  },
  {
   "cell_type": "code",
   "execution_count": null,
   "metadata": {},
   "outputs": [],
   "source": [
    "# 读取所有csv\n",
    "# for_commute,bns,rank 0 [(7, 692), (6, 2119), (5, 1604), (4, 3215), (3, 6886), (2, 7027), (1, 9367)] am-8-metis-cut-trans 8 4\n",
    "# 变为\n",
    "# for_commute,bns,0,(7,692),(6,2119),(5,1604),(4,3215),(3,6886),(2,7027),(1,9367),am-8-metis-cut-trans,8,4\n",
    "\n",
    "import re\n",
    "\n",
    "csv_files = [f for f in os.listdir('.') if f.endswith('.csv')]\n",
    "\n",
    "for csv_file in csv_files:\n",
    "    with open(csv_file, 'r') as f:\n",
    "        lines = f.readlines()\n",
    "\n",
    "    with open(csv_file, 'w') as f:\n",
    "        for line in lines:\n",
    "            # 替换\n",
    "            line = line.replace('rank ', '')\n",
    "            line = line.replace(' [(', ',(')\n",
    "            line = line.replace(', ', ',')\n",
    "            line = line.replace(')]', ')')\n",
    "            line = line.replace(' ', ',')\n",
    "            # (7,692)类型的数据，替换为(7 692) 用正则表达式匹配，中间的数字可能会变\n",
    "            line = re.sub(r'\\((\\d+),(\\d+)\\)', r'(\\1 \\2)', line)\n",
    "            # line = line.replace('(', '')\n",
    "            # line = line.replace(')', '')\n",
    "            # ),(替换为)(\n",
    "            line = line.replace('),(', ')(')\n",
    "\n",
    "            f.write(line)\n",
    "\n",
    "\n",
    "# for_commute,bns,rank 4 [(8, 223), (7, 804), (6, 746), (5, 2325), (3, 127), (2, 219), (1, 127), (0, 36), (15, 170), (14, 86), (13, 51), (12, 194), (11, 58), (10, 93), (9, 175)] ogbn-arxiv-16-metis-cut-trans 16 8\n",
    "# for_commute,bns,4,8,223,7,804,6,746,5,2325,3,127,2,219,1,127,0,36,15,170,14,86,13,51,12,194,11,58,10,93,9,175,ogbn-arxiv-16-metis-cut-trans,16,8\n"
   ]
  }
 ],
 "metadata": {
  "kernelspec": {
   "display_name": "base",
   "language": "python",
   "name": "python3"
  },
  "language_info": {
   "codemirror_mode": {
    "name": "ipython",
    "version": 3
   },
   "file_extension": ".py",
   "mimetype": "text/x-python",
   "name": "python",
   "nbconvert_exporter": "python",
   "pygments_lexer": "ipython3",
   "version": "3.11.7"
  }
 },
 "nbformat": 4,
 "nbformat_minor": 2
}
